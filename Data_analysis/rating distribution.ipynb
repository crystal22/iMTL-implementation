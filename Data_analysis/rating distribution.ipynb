{
 "cells": [
  {
   "cell_type": "code",
   "execution_count": 1,
   "metadata": {},
   "outputs": [],
   "source": [
    "import numpy as np\n",
    "import pandas as pd\n",
    "import collections"
   ]
  },
  {
   "cell_type": "code",
   "execution_count": 2,
   "metadata": {},
   "outputs": [],
   "source": [
    "cha = pd.read_csv('./data_CHA.csv')\n",
    "cha_stars = collections.Counter(cha['stars'])\n",
    "cha_stars = dict(sorted(cha_stars.items()))\n",
    "cha_distrib = [x / sum(cha_stars.values()) for x in cha_stars.values()]"
   ]
  },
  {
   "cell_type": "code",
   "execution_count": 3,
   "metadata": {},
   "outputs": [],
   "source": [
    "cal = pd.read_csv('./data_CAL.csv')\n",
    "cal_stars = collections.Counter(cal['stars'])\n",
    "cal_stars = dict(sorted(cal_stars.items()))\n",
    "cal_distrib = [x / sum(cal_stars.values()) for x in cal_stars.values()]"
   ]
  },
  {
   "cell_type": "code",
   "execution_count": 4,
   "metadata": {},
   "outputs": [],
   "source": [
    "pho = pd.read_csv('./data_PHO.csv')\n",
    "pho_stars = collections.Counter(pho['stars'])\n",
    "pho_stars = dict(sorted(pho_stars.items()))\n",
    "pho_distrib = [x / sum(pho_stars.values()) for x in pho_stars.values()]"
   ]
  },
  {
   "cell_type": "code",
   "execution_count": 5,
   "metadata": {},
   "outputs": [
    {
     "data": {
      "text/plain": [
       "[0.005969721572185873,\n",
       " 0.020201537800276996,\n",
       " 0.06375662639094512,\n",
       " 0.12235541334352165,\n",
       " 0.19857681837719088,\n",
       " 0.24528391995797316,\n",
       " 0.22918955059936005,\n",
       " 0.08582071732174411,\n",
       " 0.02884569463680214]"
      ]
     },
     "execution_count": 5,
     "metadata": {},
     "output_type": "execute_result"
    }
   ],
   "source": [
    "cha_distrib"
   ]
  },
  {
   "cell_type": "code",
   "execution_count": 6,
   "metadata": {},
   "outputs": [],
   "source": [
    "def to_pdf(dis):\n",
    "    sum = 0\n",
    "    for i in range(len(dis)):\n",
    "        sum += dis[i]\n",
    "        dis[i] = sum\n",
    "    return dis"
   ]
  },
  {
   "cell_type": "code",
   "execution_count": 7,
   "metadata": {},
   "outputs": [],
   "source": [
    "cha_pdf = to_pdf(cha_distrib)\n",
    "cal_pdf = to_pdf(cal_distrib)\n",
    "pho_pdf = to_pdf(pho_distrib)"
   ]
  },
  {
   "cell_type": "code",
   "execution_count": 8,
   "metadata": {},
   "outputs": [
    {
     "data": {
      "text/plain": [
       "[0.005969721572185873,\n",
       " 0.02617125937246287,\n",
       " 0.08992788576340799,\n",
       " 0.21228329910692964,\n",
       " 0.41086011748412055,\n",
       " 0.6561440374420937,\n",
       " 0.8853335880414538,\n",
       " 0.9711543053631979,\n",
       " 1.0]"
      ]
     },
     "execution_count": 8,
     "metadata": {},
     "output_type": "execute_result"
    }
   ],
   "source": [
    "cha_pdf"
   ]
  },
  {
   "cell_type": "code",
   "execution_count": 9,
   "metadata": {},
   "outputs": [
    {
     "data": {
      "text/plain": [
       "[0.0023000707714083512,\n",
       " 0.01521585279547063,\n",
       " 0.09819532908704884,\n",
       " 0.2075371549893843,\n",
       " 0.43683651804670914,\n",
       " 0.6951521585279548,\n",
       " 0.9010969568294409,\n",
       " 0.9738145789101204,\n",
       " 1.0]"
      ]
     },
     "execution_count": 9,
     "metadata": {},
     "output_type": "execute_result"
    }
   ],
   "source": [
    "cal_pdf"
   ]
  },
  {
   "cell_type": "code",
   "execution_count": 10,
   "metadata": {
    "scrolled": true
   },
   "outputs": [
    {
     "data": {
      "text/plain": [
       "[0.007162120341305982,\n",
       " 0.024094787567973827,\n",
       " 0.08682965648348734,\n",
       " 0.22295415358769177,\n",
       " 0.43675670896149255,\n",
       " 0.6459171492992617,\n",
       " 0.8853618639197135,\n",
       " 0.9755073168575091,\n",
       " 1.0]"
      ]
     },
     "execution_count": 10,
     "metadata": {},
     "output_type": "execute_result"
    }
   ],
   "source": [
    "pho_pdf"
   ]
  },
  {
   "cell_type": "code",
   "execution_count": 16,
   "metadata": {},
   "outputs": [],
   "source": [
    "output = pd.DataFrame({'rating':np.arange(1.0,5.5,0.5),\n",
    "                        'CHA' : cha_pdf,\n",
    "                        'CAL' : cal_pdf,\n",
    "                        'PHO' : pho_pdf }, \n",
    "                        columns=['rating','CHA','CAL', 'PHO'])"
   ]
  },
  {
   "cell_type": "code",
   "execution_count": 17,
   "metadata": {
    "scrolled": true
   },
   "outputs": [
    {
     "data": {
      "text/html": [
       "<div>\n",
       "<style scoped>\n",
       "    .dataframe tbody tr th:only-of-type {\n",
       "        vertical-align: middle;\n",
       "    }\n",
       "\n",
       "    .dataframe tbody tr th {\n",
       "        vertical-align: top;\n",
       "    }\n",
       "\n",
       "    .dataframe thead th {\n",
       "        text-align: right;\n",
       "    }\n",
       "</style>\n",
       "<table border=\"1\" class=\"dataframe\">\n",
       "  <thead>\n",
       "    <tr style=\"text-align: right;\">\n",
       "      <th></th>\n",
       "      <th>rating</th>\n",
       "      <th>CHA</th>\n",
       "      <th>CAL</th>\n",
       "      <th>PHO</th>\n",
       "    </tr>\n",
       "  </thead>\n",
       "  <tbody>\n",
       "    <tr>\n",
       "      <th>0</th>\n",
       "      <td>1.0</td>\n",
       "      <td>0.005970</td>\n",
       "      <td>0.002300</td>\n",
       "      <td>0.007162</td>\n",
       "    </tr>\n",
       "    <tr>\n",
       "      <th>1</th>\n",
       "      <td>1.5</td>\n",
       "      <td>0.026171</td>\n",
       "      <td>0.015216</td>\n",
       "      <td>0.024095</td>\n",
       "    </tr>\n",
       "    <tr>\n",
       "      <th>2</th>\n",
       "      <td>2.0</td>\n",
       "      <td>0.089928</td>\n",
       "      <td>0.098195</td>\n",
       "      <td>0.086830</td>\n",
       "    </tr>\n",
       "    <tr>\n",
       "      <th>3</th>\n",
       "      <td>2.5</td>\n",
       "      <td>0.212283</td>\n",
       "      <td>0.207537</td>\n",
       "      <td>0.222954</td>\n",
       "    </tr>\n",
       "    <tr>\n",
       "      <th>4</th>\n",
       "      <td>3.0</td>\n",
       "      <td>0.410860</td>\n",
       "      <td>0.436837</td>\n",
       "      <td>0.436757</td>\n",
       "    </tr>\n",
       "    <tr>\n",
       "      <th>5</th>\n",
       "      <td>3.5</td>\n",
       "      <td>0.656144</td>\n",
       "      <td>0.695152</td>\n",
       "      <td>0.645917</td>\n",
       "    </tr>\n",
       "    <tr>\n",
       "      <th>6</th>\n",
       "      <td>4.0</td>\n",
       "      <td>0.885334</td>\n",
       "      <td>0.901097</td>\n",
       "      <td>0.885362</td>\n",
       "    </tr>\n",
       "    <tr>\n",
       "      <th>7</th>\n",
       "      <td>4.5</td>\n",
       "      <td>0.971154</td>\n",
       "      <td>0.973815</td>\n",
       "      <td>0.975507</td>\n",
       "    </tr>\n",
       "    <tr>\n",
       "      <th>8</th>\n",
       "      <td>5.0</td>\n",
       "      <td>1.000000</td>\n",
       "      <td>1.000000</td>\n",
       "      <td>1.000000</td>\n",
       "    </tr>\n",
       "  </tbody>\n",
       "</table>\n",
       "</div>"
      ],
      "text/plain": [
       "   rating       CHA       CAL       PHO\n",
       "0     1.0  0.005970  0.002300  0.007162\n",
       "1     1.5  0.026171  0.015216  0.024095\n",
       "2     2.0  0.089928  0.098195  0.086830\n",
       "3     2.5  0.212283  0.207537  0.222954\n",
       "4     3.0  0.410860  0.436837  0.436757\n",
       "5     3.5  0.656144  0.695152  0.645917\n",
       "6     4.0  0.885334  0.901097  0.885362\n",
       "7     4.5  0.971154  0.973815  0.975507\n",
       "8     5.0  1.000000  1.000000  1.000000"
      ]
     },
     "execution_count": 17,
     "metadata": {},
     "output_type": "execute_result"
    }
   ],
   "source": [
    "output"
   ]
  },
  {
   "cell_type": "code",
   "execution_count": 21,
   "metadata": {},
   "outputs": [
    {
     "data": {
      "image/png": "[encoded data removed]",
      "text/plain": [
       "<Figure size 432x288 with 1 Axes>"
      ]
     },
     "metadata": {
      "needs_background": "light"
     },
     "output_type": "display_data"
    }
   ],
   "source": [
    "\n",
    "import matplotlib.pyplot as plt\n",
    "\n",
    "x_range = np.arange(1.0, 5.5, step=0.5)\n",
    "\n",
    "plt.plot(x_range, cha_pdf, label = 'CHA')\n",
    "plt.plot(x_range, cal_pdf, label = 'CAL')\n",
    "plt.plot(x_range, pho_pdf, label = 'PHO')\n",
    "    \n",
    "plt.xlabel('percentile')\n",
    "plt.ylabel('rating')\n",
    "plt.legend(loc='lower right')\n",
    "\n",
    "plt.show()"
   ]
  },
  {
   "cell_type": "code",
   "execution_count": 18,
   "metadata": {},
   "outputs": [],
   "source": [
    "output.to_csv('./rating distribution.csv')"
   ]
  }
 ],
 "metadata": {
  "kernelspec": {
   "display_name": "Python 3",
   "language": "python",
   "name": "python3"
  },
  "language_info": {
   "codemirror_mode": {
    "name": "ipython",
    "version": 3
   },
   "file_extension": ".py",
   "mimetype": "text/x-python",
   "name": "python",
   "nbconvert_exporter": "python",
   "pygments_lexer": "ipython3",
   "version": "3.6.5"
  }
 },
 "nbformat": 4,
 "nbformat_minor": 2
}
