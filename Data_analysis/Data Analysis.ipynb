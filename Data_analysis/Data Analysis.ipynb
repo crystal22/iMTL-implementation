{
 "cells": [
  {
   "cell_type": "markdown",
   "metadata": {},
   "source": [
    "# Data Analysis\n",
    "\n",
    "**Purpose:**\n",
    "Performing the following data analysis:\n",
    "1. temporal distribution of different categories: food, shop, night life, travel)\n",
    "2. poi choice affected by nearby pois\n",
    "\n",
    "**Input file:** \n",
    "1. Model input data: './np_save/sample_sets.npy'\n",
    "2. POI_cat_distrib : './np_save/poi_cat_distrib.npy'\n",
    "3. POI distance matrix: './np_save/dist_mat.npy'\n",
    "4. Maximum distance and sequence length: './np_save/max_dist.npy', './np_save/max_seq_len.npy'\n",
    "\n",
    "**Output file:** \n",
    "tbd\n",
    "\n",
    "**Creation Date:** 9th Nov 2019"
   ]
  },
  {
   "cell_type": "code",
   "execution_count": 1,
   "metadata": {},
   "outputs": [],
   "source": [
    "# denpendencies\n",
    "\n",
    "import numpy as np\n",
    "import pandas as pd\n",
    "from collections import Counter \n",
    "import matplotlib.pyplot as plt\n",
    "\n",
    "import Helper_Functions as Helper"
   ]
  },
  {
   "cell_type": "code",
   "execution_count": 2,
   "metadata": {},
   "outputs": [],
   "source": [
    "# import related files\n",
    "\n",
    "data = pd.read_csv('./data_CAL.csv')\n",
    "\n",
    "dir = './np_save_CAL/'\n",
    "\n",
    "samples = Helper.load_dict(dir + 'sample_sets.pkl')\n",
    "POI_cat_distrib = Helper.load_dict(dir + 'poi_cat_distrib.pkl')\n",
    "dist_mat = np.load(dir + 'dist_mat.npy', allow_pickle=True)\n",
    "\n",
    "POI_reIndex_mapping = np.load(dir + 'POI_reIndex_mapping.npy', allow_pickle=True)\n",
    "user_reIndex_mapping = np.load(dir + 'user_reIndex_mapping.npy', allow_pickle=True)\n",
    "cat_reIndex_mapping = np.load(dir + 'cat_reIndex_mapping.npy', allow_pickle=True)\n",
    "\n",
    "max_dist = np.load(dir + 'max_dist.npy', allow_pickle=True)\n",
    "max_seq_len = np.load(dir + 'max_seq_len.npy', allow_pickle=True)\n",
    "neg_num = np.load(dir + 'neg_sample_num.npy', allow_pickle=True)"
   ]
  },
  {
   "cell_type": "markdown",
   "metadata": {},
   "source": [
    "## Temporal distribution of different categories"
   ]
  },
  {
   "cell_type": "raw",
   "metadata": {},
   "source": [
    "def plotTemperalDistrib(distrib, name):\n",
    "    \n",
    "    plt.plot(np.arange(len(distrib)), distrib, label = name + 'distribution')\n",
    "    \n",
    "    plt.xlabel('time')\n",
    "    plt.ylabel('distribution')\n",
    "    plt.legend(loc='lower right')\n",
    "    plt.savefig('./data_analysis/' + name + '.png')\n",
    "\n",
    "    plt.show()"
   ]
  },
  {
   "cell_type": "raw",
   "metadata": {},
   "source": [
    "def saveTemperalDistrib(distrib, name):\n",
    "    \n",
    "    np.save('./data_analysis/' + name + '.npy', distrib)\n",
    "    \n",
    "    distrib_pd = pd.DataFrame(distrib)\n",
    "    \n",
    "    distrib_pd.to_csv('./data_analysis/' + name + '.csv')"
   ]
  },
  {
   "cell_type": "raw",
   "metadata": {},
   "source": [
    "# food category\n",
    "\n",
    "food_data = data[data['Category_name'].str.contains('Restaurant')]\n",
    "\n",
    "food_data['hour'] = food_data['Local_sg_time'].apply(lambda x: x.split()[1][0:2])\n",
    "\n",
    "food_temperal_distrib = Counter(food_data['hour'])\n",
    "\n",
    "distrib = []\n",
    "\n",
    "for hour in sorted(food_temperal_distrib):\n",
    "    \n",
    "    distrib.append(food_temperal_distrib[hour])\n",
    "\n",
    "plotTemperalDistrib(distrib, 'food')\n",
    "\n",
    "saveTemperalDistrib(distrib, 'food')"
   ]
  },
  {
   "cell_type": "raw",
   "metadata": {
    "scrolled": true
   },
   "source": [
    "# shop category\n",
    "\n",
    "shop_data = data[data['L1_Venue_category_name'].str.contains('Store' or 'Shopping')] \n",
    "\n",
    "shop_data['hour'] = shop_data['Local_sg_time'].apply(lambda x: x.split()[1][0:2])\n",
    "\n",
    "shop_temperal_distrib = Counter(shop_data['hour'])\n",
    "\n",
    "distrib = []\n",
    "\n",
    "for hour in sorted(shop_temperal_distrib):\n",
    "    \n",
    "    distrib.append(shop_temperal_distrib[hour])\n",
    "\n",
    "plotTemperalDistrib(distrib, 'shop')\n",
    "\n",
    "saveTemperalDistrib(distrib, 'shop')"
   ]
  },
  {
   "cell_type": "raw",
   "metadata": {},
   "source": [
    "# night life category\n",
    "\n",
    "nightL_data = data[data['L1_Venue_category_name'].str.contains('Bar')] \n",
    "\n",
    "nightL_data['hour'] = nightL_data['Local_sg_time'].apply(lambda x: x.split()[1][0:2])\n",
    "\n",
    "nightL_temperal_distrib = Counter(nightL_data['hour'])\n",
    "\n",
    "distrib = []\n",
    "\n",
    "for hour in sorted(nightL_temperal_distrib):\n",
    "    \n",
    "    distrib.append(nightL_temperal_distrib[hour])\n",
    "\n",
    "plotTemperalDistrib(distrib, 'nightL')\n",
    "\n",
    "saveTemperalDistrib(distrib, 'nightL')"
   ]
  },
  {
   "cell_type": "raw",
   "metadata": {
    "scrolled": true
   },
   "source": [
    "# travel category\n",
    "\n",
    "travel_data = data[data['L1_Venue_category_name'].str.contains('Station' or 'Train' or 'Subway')] \n",
    "\n",
    "travel_data['hour'] = travel_data['Local_sg_time'].apply(lambda x: x.split()[1][0:2])\n",
    "\n",
    "travel_temperal_distrib = Counter(travel_data['hour'])\n",
    "\n",
    "distrib = []\n",
    "\n",
    "for hour in sorted(travel_temperal_distrib):\n",
    "    \n",
    "    distrib.append(travel_temperal_distrib[hour])\n",
    "\n",
    "plotTemperalDistrib(distrib, 'travel')\n",
    "\n",
    "saveTemperalDistrib(distrib, 'travel')"
   ]
  },
  {
   "cell_type": "markdown",
   "metadata": {},
   "source": [
    "## POI choice affected by nearby POIs"
   ]
  },
  {
   "cell_type": "code",
   "execution_count": 3,
   "metadata": {},
   "outputs": [
    {
     "data": {
      "text/plain": [
       "array([[ 0.        ,  1.75432238, 16.3255705 , ..., 17.25471738,\n",
       "        10.82419259,  8.78870258],\n",
       "       [ 1.75432238,  0.        , 14.69529891, ..., 16.11986614,\n",
       "        12.46412498,  7.80256105],\n",
       "       [16.3255705 , 14.69529891,  0.        , ...,  7.86961172,\n",
       "        27.1462321 ,  9.81268287],\n",
       "       ...,\n",
       "       [17.25471738, 16.11986614,  7.86961172, ...,  0.        ,\n",
       "        27.44678227,  8.49913289],\n",
       "       [10.82419259, 12.46412498, 27.1462321 , ..., 27.44678227,\n",
       "         0.        , 19.01498426],\n",
       "       [ 8.78870258,  7.80256105,  9.81268287, ...,  8.49913289,\n",
       "        19.01498426,  0.        ]])"
      ]
     },
     "execution_count": 3,
     "metadata": {},
     "output_type": "execute_result"
    }
   ],
   "source": [
    "# transform dist_mat to display full dist b/w each pair of pois\n",
    "\n",
    "new_dist_mat = np.transpose(dist_mat)\n",
    "num_rows, num_cols = len(new_dist_mat), len(new_dist_mat)\n",
    "\n",
    "for i in range(num_rows):\n",
    "    for j in range(i, num_cols):\n",
    "        new_dist_mat[j][i] = new_dist_mat[i][j]\n",
    "        \n",
    "new_dist_mat"
   ]
  },
  {
   "cell_type": "code",
   "execution_count": 4,
   "metadata": {},
   "outputs": [],
   "source": [
    "def valid_poi_ratio(dist_range, samples):\n",
    "\n",
    "    total_poi = 0 # poi within designated distance b/w destination & contains same category as true destination\n",
    "    valid_poi = 0 # poi with less amount of stores for the same category compared to true destination\n",
    "\n",
    "    for user in samples.keys():\n",
    "        user_samples = samples[user]\n",
    "        for visit in user_samples:\n",
    "            dest = visit[0][-1]\n",
    "            dest_cat = visit[4][-1]\n",
    "            dest_cat_storeNo = 1 # default: individual poi\n",
    "            if dest in POI_cat_distrib.keys(): # collective poi\n",
    "                dest_cat_storeNo = POI_cat_distrib[dest][dest_cat]\n",
    "\n",
    "            candidate_dest_list = [x for x in range(len(dist_mat)) if new_dist_mat[dest][x] < dist_range and x!=dest]\n",
    "\n",
    "            for candidate in candidate_dest_list:\n",
    "                if candidate in POI_cat_distrib.keys(): # collective poi\n",
    "                    if dest_cat in POI_cat_distrib[candidate].keys(): # and contains target category\n",
    "                        total_poi += 1\n",
    "                        if POI_cat_distrib[candidate][dest_cat] < dest_cat_storeNo: # and whose category store less than dest\n",
    "                            valid_poi += 1\n",
    "                else: # individual poi\n",
    "                    old_poi_id = POI_reIndex_mapping[candidate]\n",
    "                    try:\n",
    "                        cat_id = np.where(cat_reIndex_mapping == data[data['POI_id']==old_poi_id].iloc[0]['L2_id'])[0][0]\n",
    "                    except IndexError: # indidual poi's cat not in valid sequence\n",
    "                        continue\n",
    "                    if cat_id == dest_cat: # poi of the same category\n",
    "                        total_poi += 1\n",
    "                        valid_poi += 1\n",
    "\n",
    "    return valid_poi / total_poi      "
   ]
  },
  {
   "cell_type": "code",
   "execution_count": 5,
   "metadata": {
    "scrolled": true
   },
   "outputs": [
    {
     "name": "stdout",
     "output_type": "stream",
     "text": [
      "0.1\n",
      "0.2\n",
      "0.30000000000000004\n",
      "0.4\n",
      "0.5\n",
      "0.6\n",
      "0.7000000000000001\n",
      "0.8\n",
      "0.9\n",
      "1.0\n",
      "1.1\n",
      "1.2000000000000002\n",
      "1.3000000000000003\n",
      "1.4000000000000001\n",
      "1.5000000000000002\n",
      "1.6\n",
      "1.7000000000000002\n",
      "1.8000000000000003\n",
      "1.9000000000000001\n",
      "2.0\n"
     ]
    },
    {
     "data": {
      "text/plain": [
       "[0.9166666666666666,\n",
       " 0.9047619047619048,\n",
       " 0.9354838709677419,\n",
       " 0.9245283018867925,\n",
       " 0.9104477611940298,\n",
       " 0.8987341772151899,\n",
       " 0.9183673469387755,\n",
       " 0.9349593495934959,\n",
       " 0.9415584415584416,\n",
       " 0.9344262295081968,\n",
       " 0.9343434343434344,\n",
       " 0.9395348837209302,\n",
       " 0.9449152542372882,\n",
       " 0.9484126984126984,\n",
       " 0.9338235294117647,\n",
       " 0.9366197183098591,\n",
       " 0.933993399339934,\n",
       " 0.9341692789968652,\n",
       " 0.9287833827893175,\n",
       " 0.9302325581395349]"
      ]
     },
     "execution_count": 5,
     "metadata": {},
     "output_type": "execute_result"
    }
   ],
   "source": [
    "valid_ratio_list = []\n",
    "\n",
    "dist_range_list = np.arange(0.1, 2.1, step=0.1)\n",
    "\n",
    "for dist_range in dist_range_list:\n",
    "    \n",
    "    print(dist_range)\n",
    "    \n",
    "    valid_ratio_list.append(valid_poi_ratio(dist_range, samples))    \n",
    "    \n",
    "valid_ratio_list"
   ]
  },
  {
   "cell_type": "code",
   "execution_count": 6,
   "metadata": {},
   "outputs": [
    {
     "data": {
      "image/png": "[encoded data removed]",
      "text/plain": [
       "<Figure size 432x288 with 1 Axes>"
      ]
     },
     "metadata": {
      "needs_background": "light"
     },
     "output_type": "display_data"
    }
   ],
   "source": [
    "x_range = np.arange(0.1, 2.1, step=0.1)\n",
    "\n",
    "plt.plot(x_range, valid_ratio_list, label = 'valid POI ratio across different search range')\n",
    "    \n",
    "plt.xlabel('search range')\n",
    "plt.ylabel('valid POI ratio')\n",
    "plt.legend(loc='lower right')\n",
    "plt.savefig('./data_analysis/valid_POI_ratio_CAL.png')\n",
    "\n",
    "plt.show()\n",
    "\n",
    "np.save('./data_analysis/valid_POI_ratio_CAL.npy', valid_ratio_list)\n",
    "    \n",
    "valid_ratio_list_pd = pd.DataFrame(valid_ratio_list, x_range)\n",
    "    \n",
    "valid_ratio_list_pd.to_csv('./data_analysis/valid_POI_ratio_CAL.csv')"
   ]
  }
 ],
 "metadata": {
  "kernelspec": {
   "display_name": "Python 3",
   "language": "python",
   "name": "python3"
  },
  "language_info": {
   "codemirror_mode": {
    "name": "ipython",
    "version": 3
   },
   "file_extension": ".py",
   "mimetype": "text/x-python",
   "name": "python",
   "nbconvert_exporter": "python",
   "pygments_lexer": "ipython3",
   "version": "3.6.5"
  }
 },
 "nbformat": 4,
 "nbformat_minor": 2
}
